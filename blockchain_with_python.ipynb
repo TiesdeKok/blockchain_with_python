{
 "cells": [
  {
   "cell_type": "markdown",
   "metadata": {},
   "source": [
    "# Introduction\n",
    "---\n",
    "\n",
    "**Author:** Ties de Kok ([Personal Website](http://www.tiesdekok.com))  \n",
    "**Last updated:** 18 June 2018  \n",
    "**Python version:** Python 3.6  \n",
    "**License:** MIT License   \n",
    "\n",
    "This Jupyter Notebook contains the Python code equivalent of the R code provided in the paper *\"Introduction to Blockchain With R\"* written by **Theophanis Stratopoulos** and **Jesus Calderon**. \n",
    "\n",
    "This paper is available on SSRN here:  \n",
    "\n",
    "https://papers.ssrn.com/sol3/papers.cfm?abstract_id=3189518"
   ]
  },
  {
   "cell_type": "markdown",
   "metadata": {},
   "source": [
    "### New to Python? Check out my `LearnPythonforResearch` repository!"
   ]
  },
  {
   "cell_type": "markdown",
   "metadata": {},
   "source": [
    "<a href='https://github.com/TiesdeKok/LearnPythonforResearch'><img style=\"position: relative; top: 0px; left: 60px;\" src=\"http://www.tiesdekok.com/EAA_2018_NLP/images/learnpython.PNG\", width=50%></a>"
   ]
  },
  {
   "cell_type": "markdown",
   "metadata": {},
   "source": [
    "### Imports"
   ]
  },
  {
   "cell_type": "code",
   "execution_count": 1,
   "metadata": {},
   "outputs": [],
   "source": [
    "import re, copy\n",
    "import pandas as pd\n",
    "import numpy as np\n",
    "import hashlib"
   ]
  },
  {
   "cell_type": "markdown",
   "metadata": {},
   "source": [
    "To make some of the prints easier to read:"
   ]
  },
  {
   "cell_type": "code",
   "execution_count": 2,
   "metadata": {},
   "outputs": [],
   "source": [
    "import pprint\n",
    "pp = pprint.PrettyPrinter(indent=0)"
   ]
  },
  {
   "cell_type": "markdown",
   "metadata": {},
   "source": [
    "# Traditional ledger\n",
    "---"
   ]
  },
  {
   "cell_type": "markdown",
   "metadata": {},
   "source": [
    "### A time stamped transaction"
   ]
  },
  {
   "cell_type": "code",
   "execution_count": 3,
   "metadata": {},
   "outputs": [],
   "source": [
    "txn_example = pd.DataFrame([{'timestamp' : pd.Timestamp.now(),\n",
    "                            'to_account' : 'Alice',\n",
    "                            'from_account' : 'Bob',\n",
    "                            'amount' : 900}])"
   ]
  },
  {
   "cell_type": "code",
   "execution_count": 4,
   "metadata": {},
   "outputs": [
    {
     "data": {
      "text/html": [
       "<div>\n",
       "<style scoped>\n",
       "    .dataframe tbody tr th:only-of-type {\n",
       "        vertical-align: middle;\n",
       "    }\n",
       "\n",
       "    .dataframe tbody tr th {\n",
       "        vertical-align: top;\n",
       "    }\n",
       "\n",
       "    .dataframe thead th {\n",
       "        text-align: right;\n",
       "    }\n",
       "</style>\n",
       "<table border=\"1\" class=\"dataframe\">\n",
       "  <thead>\n",
       "    <tr style=\"text-align: right;\">\n",
       "      <th></th>\n",
       "      <th>amount</th>\n",
       "      <th>from_account</th>\n",
       "      <th>timestamp</th>\n",
       "      <th>to_account</th>\n",
       "    </tr>\n",
       "  </thead>\n",
       "  <tbody>\n",
       "    <tr>\n",
       "      <th>0</th>\n",
       "      <td>900</td>\n",
       "      <td>Bob</td>\n",
       "      <td>2018-06-18 18:03:51.979629</td>\n",
       "      <td>Alice</td>\n",
       "    </tr>\n",
       "  </tbody>\n",
       "</table>\n",
       "</div>"
      ],
      "text/plain": [
       "   amount from_account                  timestamp to_account\n",
       "0     900          Bob 2018-06-18 18:03:51.979629      Alice"
      ]
     },
     "execution_count": 4,
     "metadata": {},
     "output_type": "execute_result"
    }
   ],
   "source": [
    "txn_example"
   ]
  },
  {
   "cell_type": "markdown",
   "metadata": {},
   "source": [
    "### A function to generate transactions on the ledger"
   ]
  },
  {
   "cell_type": "code",
   "execution_count": 5,
   "metadata": {},
   "outputs": [],
   "source": [
    "def transaction(from_account, to_account, amount):\n",
    "    ## Python `.isnumeric()` only works with integers, not with float values\n",
    "    if isinstance(amount, int) or isinstance(amount, float):\n",
    "        new_txt = pd.DataFrame([{'timestamp' : pd.Timestamp.now(),\n",
    "                            'from_account' : from_account,\n",
    "                            'to_account' : to_account,\n",
    "                            'amount' : amount}])\n",
    "        return new_txt\n",
    "    else:\n",
    "        print('Amount must be numeric')"
   ]
  },
  {
   "cell_type": "code",
   "execution_count": 6,
   "metadata": {},
   "outputs": [],
   "source": [
    "ldgr_txn_genesis = transaction(from_account='Genesis Endowment', \n",
    "                               to_account = 'Bob',\n",
    "                               amount = 2000\n",
    "                              )"
   ]
  },
  {
   "cell_type": "code",
   "execution_count": 7,
   "metadata": {},
   "outputs": [
    {
     "data": {
      "text/html": [
       "<div>\n",
       "<style scoped>\n",
       "    .dataframe tbody tr th:only-of-type {\n",
       "        vertical-align: middle;\n",
       "    }\n",
       "\n",
       "    .dataframe tbody tr th {\n",
       "        vertical-align: top;\n",
       "    }\n",
       "\n",
       "    .dataframe thead th {\n",
       "        text-align: right;\n",
       "    }\n",
       "</style>\n",
       "<table border=\"1\" class=\"dataframe\">\n",
       "  <thead>\n",
       "    <tr style=\"text-align: right;\">\n",
       "      <th></th>\n",
       "      <th>amount</th>\n",
       "      <th>from_account</th>\n",
       "      <th>timestamp</th>\n",
       "      <th>to_account</th>\n",
       "    </tr>\n",
       "  </thead>\n",
       "  <tbody>\n",
       "    <tr>\n",
       "      <th>0</th>\n",
       "      <td>2000</td>\n",
       "      <td>Genesis Endowment</td>\n",
       "      <td>2018-06-18 18:03:52.040468</td>\n",
       "      <td>Bob</td>\n",
       "    </tr>\n",
       "  </tbody>\n",
       "</table>\n",
       "</div>"
      ],
      "text/plain": [
       "   amount       from_account                  timestamp to_account\n",
       "0    2000  Genesis Endowment 2018-06-18 18:03:52.040468        Bob"
      ]
     },
     "execution_count": 7,
     "metadata": {},
     "output_type": "execute_result"
    }
   ],
   "source": [
    "ledger = ldgr_txn_genesis\n",
    "ledger"
   ]
  },
  {
   "cell_type": "markdown",
   "metadata": {},
   "source": [
    "### Account balances on ledger"
   ]
  },
  {
   "cell_type": "code",
   "execution_count": 8,
   "metadata": {},
   "outputs": [],
   "source": [
    "def get_balance_ldgr(ledger, account):\n",
    "    deposits = ledger[ledger.to_account == account]['amount']\n",
    "    total_deposits = deposits.sum()\n",
    "    \n",
    "    withdrawls = ledger[ledger.from_account == account]['amount']\n",
    "    total_withdrawls = withdrawls.sum()\n",
    "    \n",
    "    balance = total_deposits - total_withdrawls\n",
    "    \n",
    "    return balance"
   ]
  },
  {
   "cell_type": "code",
   "execution_count": 9,
   "metadata": {},
   "outputs": [
    {
     "data": {
      "text/plain": [
       "2000"
      ]
     },
     "execution_count": 9,
     "metadata": {},
     "output_type": "execute_result"
    }
   ],
   "source": [
    "get_balance_ldgr(ldgr_txn_genesis, 'Bob')"
   ]
  },
  {
   "cell_type": "markdown",
   "metadata": {},
   "source": [
    "### Create a block on the ledger"
   ]
  },
  {
   "cell_type": "code",
   "execution_count": 10,
   "metadata": {},
   "outputs": [
    {
     "data": {
      "text/html": [
       "<div>\n",
       "<style scoped>\n",
       "    .dataframe tbody tr th:only-of-type {\n",
       "        vertical-align: middle;\n",
       "    }\n",
       "\n",
       "    .dataframe tbody tr th {\n",
       "        vertical-align: top;\n",
       "    }\n",
       "\n",
       "    .dataframe thead th {\n",
       "        text-align: right;\n",
       "    }\n",
       "</style>\n",
       "<table border=\"1\" class=\"dataframe\">\n",
       "  <thead>\n",
       "    <tr style=\"text-align: right;\">\n",
       "      <th></th>\n",
       "      <th>amount</th>\n",
       "      <th>from_account</th>\n",
       "      <th>timestamp</th>\n",
       "      <th>to_account</th>\n",
       "    </tr>\n",
       "  </thead>\n",
       "  <tbody>\n",
       "    <tr>\n",
       "      <th>0</th>\n",
       "      <td>900</td>\n",
       "      <td>Bob</td>\n",
       "      <td>2018-06-18 18:03:52.113272</td>\n",
       "      <td>Alice</td>\n",
       "    </tr>\n",
       "  </tbody>\n",
       "</table>\n",
       "</div>"
      ],
      "text/plain": [
       "   amount from_account                  timestamp to_account\n",
       "0     900          Bob 2018-06-18 18:03:52.113272      Alice"
      ]
     },
     "execution_count": 10,
     "metadata": {},
     "output_type": "execute_result"
    }
   ],
   "source": [
    "ldgr_txn_bob2alice = transaction(from_account = 'Bob',\n",
    "                                  to_account = 'Alice',\n",
    "                                  amount = 900\n",
    "                                 )\n",
    "ldgr_txn_bob2alice"
   ]
  },
  {
   "cell_type": "code",
   "execution_count": 11,
   "metadata": {},
   "outputs": [
    {
     "data": {
      "text/html": [
       "<div>\n",
       "<style scoped>\n",
       "    .dataframe tbody tr th:only-of-type {\n",
       "        vertical-align: middle;\n",
       "    }\n",
       "\n",
       "    .dataframe tbody tr th {\n",
       "        vertical-align: top;\n",
       "    }\n",
       "\n",
       "    .dataframe thead th {\n",
       "        text-align: right;\n",
       "    }\n",
       "</style>\n",
       "<table border=\"1\" class=\"dataframe\">\n",
       "  <thead>\n",
       "    <tr style=\"text-align: right;\">\n",
       "      <th></th>\n",
       "      <th>amount</th>\n",
       "      <th>from_account</th>\n",
       "      <th>timestamp</th>\n",
       "      <th>to_account</th>\n",
       "    </tr>\n",
       "  </thead>\n",
       "  <tbody>\n",
       "    <tr>\n",
       "      <th>0</th>\n",
       "      <td>2000</td>\n",
       "      <td>Genesis Endowment</td>\n",
       "      <td>2018-06-18 18:03:52.040468</td>\n",
       "      <td>Bob</td>\n",
       "    </tr>\n",
       "    <tr>\n",
       "      <th>0</th>\n",
       "      <td>900</td>\n",
       "      <td>Bob</td>\n",
       "      <td>2018-06-18 18:03:52.113272</td>\n",
       "      <td>Alice</td>\n",
       "    </tr>\n",
       "  </tbody>\n",
       "</table>\n",
       "</div>"
      ],
      "text/plain": [
       "   amount       from_account                  timestamp to_account\n",
       "0    2000  Genesis Endowment 2018-06-18 18:03:52.040468        Bob\n",
       "0     900                Bob 2018-06-18 18:03:52.113272      Alice"
      ]
     },
     "execution_count": 11,
     "metadata": {},
     "output_type": "execute_result"
    }
   ],
   "source": [
    "ledger = ledger.append(ldgr_txn_bob2alice)\n",
    "ledger"
   ]
  },
  {
   "cell_type": "code",
   "execution_count": 12,
   "metadata": {},
   "outputs": [
    {
     "name": "stdout",
     "output_type": "stream",
     "text": [
      "Balance of Alice: 900\n",
      "Balance of Bob: 1100\n",
      "Balance of Christie: 0\n"
     ]
    }
   ],
   "source": [
    "for account in ['Alice', 'Bob', 'Christie']:\n",
    "    print('Balance of {}: {}'.format(account, \n",
    "                                     get_balance_ldgr(ledger, account)))"
   ]
  },
  {
   "cell_type": "markdown",
   "metadata": {},
   "source": [
    "#### Add another transaction"
   ]
  },
  {
   "cell_type": "code",
   "execution_count": 13,
   "metadata": {},
   "outputs": [],
   "source": [
    "ldgr_txn_alice2christie = transaction(from_account = 'Alice',\n",
    "                                       to_account = 'Christie',\n",
    "                                       amount = 300\n",
    "                                      )"
   ]
  },
  {
   "cell_type": "code",
   "execution_count": 14,
   "metadata": {},
   "outputs": [
    {
     "data": {
      "text/html": [
       "<div>\n",
       "<style scoped>\n",
       "    .dataframe tbody tr th:only-of-type {\n",
       "        vertical-align: middle;\n",
       "    }\n",
       "\n",
       "    .dataframe tbody tr th {\n",
       "        vertical-align: top;\n",
       "    }\n",
       "\n",
       "    .dataframe thead th {\n",
       "        text-align: right;\n",
       "    }\n",
       "</style>\n",
       "<table border=\"1\" class=\"dataframe\">\n",
       "  <thead>\n",
       "    <tr style=\"text-align: right;\">\n",
       "      <th></th>\n",
       "      <th>amount</th>\n",
       "      <th>from_account</th>\n",
       "      <th>timestamp</th>\n",
       "      <th>to_account</th>\n",
       "    </tr>\n",
       "  </thead>\n",
       "  <tbody>\n",
       "    <tr>\n",
       "      <th>0</th>\n",
       "      <td>2000</td>\n",
       "      <td>Genesis Endowment</td>\n",
       "      <td>2018-06-18 18:03:52.040468</td>\n",
       "      <td>Bob</td>\n",
       "    </tr>\n",
       "    <tr>\n",
       "      <th>0</th>\n",
       "      <td>900</td>\n",
       "      <td>Bob</td>\n",
       "      <td>2018-06-18 18:03:52.113272</td>\n",
       "      <td>Alice</td>\n",
       "    </tr>\n",
       "    <tr>\n",
       "      <th>0</th>\n",
       "      <td>300</td>\n",
       "      <td>Alice</td>\n",
       "      <td>2018-06-18 18:03:52.180092</td>\n",
       "      <td>Christie</td>\n",
       "    </tr>\n",
       "  </tbody>\n",
       "</table>\n",
       "</div>"
      ],
      "text/plain": [
       "   amount       from_account                  timestamp to_account\n",
       "0    2000  Genesis Endowment 2018-06-18 18:03:52.040468        Bob\n",
       "0     900                Bob 2018-06-18 18:03:52.113272      Alice\n",
       "0     300              Alice 2018-06-18 18:03:52.180092   Christie"
      ]
     },
     "execution_count": 14,
     "metadata": {},
     "output_type": "execute_result"
    }
   ],
   "source": [
    "ledger = ledger.append(ldgr_txn_alice2christie)\n",
    "ledger"
   ]
  },
  {
   "cell_type": "code",
   "execution_count": 15,
   "metadata": {},
   "outputs": [
    {
     "name": "stdout",
     "output_type": "stream",
     "text": [
      "Balance of Alice: 600\n",
      "Balance of Bob: 1100\n",
      "Balance of Christie: 300\n"
     ]
    }
   ],
   "source": [
    "for account in ['Alice', 'Bob', 'Christie']:\n",
    "    print('Balance of {}: {}'.format(account, \n",
    "                                     get_balance_ldgr(ledger, account)))"
   ]
  },
  {
   "cell_type": "markdown",
   "metadata": {},
   "source": [
    "## Blockchain ledger\n",
    "---\n",
    "\n",
    "A couple of clarifications:  \n",
    "\n",
    "1. The number of transactions in a block in this example is only 1 transaction per block. See footnote 3 in the paper for an explanation.  \n",
    "2. \n"
   ]
  },
  {
   "cell_type": "markdown",
   "metadata": {},
   "source": []
  },
  {
   "cell_type": "markdown",
   "metadata": {},
   "source": [
    "### Modified transaction function"
   ]
  },
  {
   "cell_type": "markdown",
   "metadata": {},
   "source": [
    "**Note:** to make the hashing more predictable the modified `transaction_bc` function returns the data as a `dictionary` instead of a `Pandas DataFrame`."
   ]
  },
  {
   "cell_type": "code",
   "execution_count": 16,
   "metadata": {},
   "outputs": [],
   "source": [
    "def transaction_bc(from_account, to_account, amount):\n",
    "    ## Python `.isnumeric()` only works with integers, not with float values\n",
    "    if isinstance(amount, int) or isinstance(amount, float):\n",
    "        transaction_dict = {'timestamp' : pd.Timestamp.now(),\n",
    "                            'from_account' : from_account,\n",
    "                            'to_account' : to_account,\n",
    "                            'amount' : amount}\n",
    "        return transaction_dict\n",
    "    else:\n",
    "        print('Amount must be numeric')"
   ]
  },
  {
   "cell_type": "markdown",
   "metadata": {},
   "source": [
    "### Create blockchain with genesis block"
   ]
  },
  {
   "cell_type": "code",
   "execution_count": 17,
   "metadata": {},
   "outputs": [],
   "source": [
    "genesis_transaction = transaction_bc(from_account='Genesis Endowment', \n",
    "                                              to_account = 'Bob',\n",
    "                                              amount = 2000\n",
    "                                     )\n",
    "\n",
    "genesis_block = {'transactions' : genesis_transaction,\n",
    "                 'prev_hash' : None,\n",
    "                 'proof_of_work' : 0\n",
    "                }"
   ]
  },
  {
   "cell_type": "code",
   "execution_count": 18,
   "metadata": {},
   "outputs": [],
   "source": [
    "blockchain = [genesis_block]"
   ]
  },
  {
   "cell_type": "code",
   "execution_count": 19,
   "metadata": {},
   "outputs": [
    {
     "name": "stdout",
     "output_type": "stream",
     "text": [
      "[{'prev_hash': None,\n",
      "'proof_of_work': 0,\n",
      "'transactions': {'amount': 2000,\n",
      "                'from_account': 'Genesis Endowment',\n",
      "                'timestamp': Timestamp('2018-06-18 18:03:52.259882'),\n",
      "                'to_account': 'Bob'}}]\n"
     ]
    }
   ],
   "source": [
    "pp.pprint(blockchain)"
   ]
  },
  {
   "cell_type": "markdown",
   "metadata": {},
   "source": [
    "### Hash function"
   ]
  },
  {
   "cell_type": "markdown",
   "metadata": {},
   "source": [
    "Convenience function as Python requires to encode the string first."
   ]
  },
  {
   "cell_type": "code",
   "execution_count": 20,
   "metadata": {},
   "outputs": [],
   "source": [
    "def hash_sha256(obj):\n",
    "    return hashlib.sha256(str(obj).encode('utf-8')).hexdigest()"
   ]
  },
  {
   "cell_type": "markdown",
   "metadata": {},
   "source": [
    "**Note:** `Hashlib` in Python will only yield the same value as `digest` in R if serialization is turned off:\n",
    "```\n",
    "> digest('banana', 'sha256')\n",
    "[1] '351efb5a0bc748f203667a09aa40278b165f5a50742af3dbc1b7077c6293010b'\n",
    "> digest('banana', 'sha256', serialize=FALSE)\n",
    "[2] 'b493d48364afe44d11c0165cf470a4164d1e2609911ef998be868d46ade3de4e'\n",
    "```"
   ]
  },
  {
   "cell_type": "code",
   "execution_count": 21,
   "metadata": {},
   "outputs": [
    {
     "data": {
      "text/plain": [
       "'b493d48364afe44d11c0165cf470a4164d1e2609911ef998be868d46ade3de4e'"
      ]
     },
     "execution_count": 21,
     "metadata": {},
     "output_type": "execute_result"
    }
   ],
   "source": [
    "hash_sha256('banana')"
   ]
  },
  {
   "cell_type": "code",
   "execution_count": 22,
   "metadata": {},
   "outputs": [
    {
     "data": {
      "text/plain": [
       "'e4ba5cbd251c98e6cd1c23f126a3b81d8d8328abc95387229850952b3ef9f904'"
      ]
     },
     "execution_count": 22,
     "metadata": {},
     "output_type": "execute_result"
    }
   ],
   "source": [
    "hash_sha256('bananas')"
   ]
  },
  {
   "cell_type": "code",
   "execution_count": 23,
   "metadata": {},
   "outputs": [
    {
     "data": {
      "text/plain": [
       "'f9782dd7999dc14b39c1329735e6e4ef72e77a3cf5fa32f2f57bf8d5493f0fc5'"
      ]
     },
     "execution_count": 23,
     "metadata": {},
     "output_type": "execute_result"
    }
   ],
   "source": [
    "hash_sha256('Banana')"
   ]
  },
  {
   "cell_type": "markdown",
   "metadata": {},
   "source": [
    "### Hash the genesis block"
   ]
  },
  {
   "cell_type": "code",
   "execution_count": 24,
   "metadata": {},
   "outputs": [
    {
     "data": {
      "text/plain": [
       "'b7b1bae7d16d202880edecdcf51b7c23ede397a43ba8a755d1e29b9628f7b541'"
      ]
     },
     "execution_count": 24,
     "metadata": {},
     "output_type": "execute_result"
    }
   ],
   "source": [
    "genesis_hash = hash_sha256(genesis_block)\n",
    "genesis_hash"
   ]
  },
  {
   "cell_type": "markdown",
   "metadata": {},
   "source": [
    "**Practice Problem:**  \n",
    "Will the genesis_hash remain the same if your re-run the\n",
    "above sequence of commands (genesis block, blockchain, and hashing)? Why?"
   ]
  },
  {
   "cell_type": "markdown",
   "metadata": {},
   "source": [
    "### Validation function"
   ]
  },
  {
   "cell_type": "code",
   "execution_count": 25,
   "metadata": {},
   "outputs": [],
   "source": [
    "def is_valid_proof(last_proof, this_proof):\n",
    "    guess = str(last_proof) + str(this_proof)\n",
    "    guess_hash = hash_sha256(guess)\n",
    "    is_valid = bool(re.search('0{3}$',guess_hash))\n",
    "    return is_valid"
   ]
  },
  {
   "cell_type": "markdown",
   "metadata": {},
   "source": [
    "**Note:** renamed the variable `test` to `is_valid` so that it is more intuitive."
   ]
  },
  {
   "cell_type": "markdown",
   "metadata": {},
   "source": [
    "**Clarification:** validation is done by defining a pattern that indicates validity, in essence this pattern is arbitrary and could be anything. The pattern is important because it determines the difficulty of finding a \"valid\" combination. In this example the pattern is \"end with 3 zeros\", which implies that a hash is \"valid\" if it ends with 3 zeros. "
   ]
  },
  {
   "cell_type": "markdown",
   "metadata": {},
   "source": [
    "### Proof of work"
   ]
  },
  {
   "cell_type": "code",
   "execution_count": 26,
   "metadata": {},
   "outputs": [],
   "source": [
    "def proof_of_work(last_proof):\n",
    "    candidate_proof = 0\n",
    "    while not is_valid_proof(last_proof, candidate_proof):\n",
    "        candidate_proof += 1\n",
    "    return candidate_proof"
   ]
  },
  {
   "cell_type": "markdown",
   "metadata": {},
   "source": [
    "**Clarification:** the `proof_of_work` function will keep trying different (in this case increasing) numbers until (essentially by chance) the \"valid\" number is found that results in a \"valid\" combination. Depending on the difficulty this can take a long time!"
   ]
  },
  {
   "cell_type": "code",
   "execution_count": 27,
   "metadata": {},
   "outputs": [
    {
     "name": "stdout",
     "output_type": "stream",
     "text": [
      "5735\n",
      "Wall time: 26.9 ms\n"
     ]
    }
   ],
   "source": [
    "%%time\n",
    "second_proof = proof_of_work(genesis_block['proof_of_work'])\n",
    "print(second_proof)"
   ]
  },
  {
   "cell_type": "code",
   "execution_count": 42,
   "metadata": {},
   "outputs": [
    {
     "data": {
      "text/plain": [
       "True"
      ]
     },
     "execution_count": 42,
     "metadata": {},
     "output_type": "execute_result"
    }
   ],
   "source": [
    "is_valid_proof(0, 5735)"
   ]
  },
  {
   "cell_type": "code",
   "execution_count": 43,
   "metadata": {},
   "outputs": [
    {
     "data": {
      "text/plain": [
       "'3a4d5ba8ce221c92771b35cec354df30de468c7e67a994c2bfc08fa437fa0000'"
      ]
     },
     "execution_count": 43,
     "metadata": {},
     "output_type": "execute_result"
    }
   ],
   "source": [
    "hash_sha256(str(0) + str(second_proof))"
   ]
  },
  {
   "cell_type": "markdown",
   "metadata": {},
   "source": [
    "**Practice Problem:**  \n",
    "1. Change the number of zeros in the validation function (is_valid_proof) from three to four.\n",
    "2. Run the proof of work on the genesis block with the updated requirements and measure how long it takes (you can use `%%time` like demonstrated above)\n",
    "3. How does it compare to the one above?"
   ]
  },
  {
   "cell_type": "markdown",
   "metadata": {},
   "source": [
    "## Account balance on Blockchain"
   ]
  },
  {
   "cell_type": "code",
   "execution_count": 30,
   "metadata": {},
   "outputs": [],
   "source": [
    "def get_balance(blockchain, account):\n",
    "    ldgr_txns = []\n",
    "    for block in blockchain:\n",
    "        ldgr_txns.append(block['transactions'])\n",
    "        \n",
    "    balance = get_balance_ldgr(pd.DataFrame(ldgr_txns), account)\n",
    "    \n",
    "    return balance"
   ]
  },
  {
   "cell_type": "code",
   "execution_count": 31,
   "metadata": {},
   "outputs": [
    {
     "data": {
      "text/plain": [
       "2000"
      ]
     },
     "execution_count": 31,
     "metadata": {},
     "output_type": "execute_result"
    }
   ],
   "source": [
    "get_balance(blockchain, 'Bob')"
   ]
  },
  {
   "cell_type": "markdown",
   "metadata": {},
   "source": [
    "### Create and add new block to blockchain"
   ]
  },
  {
   "cell_type": "markdown",
   "metadata": {},
   "source": [
    "#### Create new block"
   ]
  },
  {
   "cell_type": "code",
   "execution_count": 32,
   "metadata": {},
   "outputs": [],
   "source": [
    "def create_block(txns, prev_hash = None, proof_of_work = None):\n",
    "    new_block = {'transactions' : txns, \n",
    "                 'prev_hash' : prev_hash,\n",
    "                 'proof_of_work' : proof_of_work}\n",
    "    return new_block"
   ]
  },
  {
   "cell_type": "code",
   "execution_count": 33,
   "metadata": {},
   "outputs": [],
   "source": [
    "txn_bob = transaction_bc(from_account = 'Bob',\n",
    "                         to_account = 'Alice',\n",
    "                         amount = 900\n",
    "                        )  "
   ]
  },
  {
   "cell_type": "code",
   "execution_count": 34,
   "metadata": {},
   "outputs": [],
   "source": [
    "second_block = create_block(txns = txn_bob, \n",
    "                            prev_hash = genesis_hash,\n",
    "                            proof_of_work = second_proof)"
   ]
  },
  {
   "cell_type": "markdown",
   "metadata": {},
   "source": [
    "#### Add block function"
   ]
  },
  {
   "cell_type": "code",
   "execution_count": 35,
   "metadata": {},
   "outputs": [],
   "source": [
    "def add_block_if_valid(blockchain, new_block):\n",
    "    new_blockchain = copy.deepcopy(blockchain)\n",
    "    \n",
    "    check_proof = is_valid_proof(blockchain[-1]['proof_of_work'], \n",
    "                                 new_block['proof_of_work'])\n",
    "    \n",
    "    last_hash = hash_sha256(blockchain[-1])\n",
    "    check_hash = last_hash == new_block['prev_hash']\n",
    "        \n",
    "    acct_balance = get_balance(blockchain, new_block['transactions']['from_account'])\n",
    "    check_balance = acct_balance > new_block['transactions']['amount']\n",
    "    \n",
    "    if check_proof and check_hash and check_balance:\n",
    "        new_blockchain.append(new_block)\n",
    "    else:\n",
    "        print('This block is not valid.')\n",
    "        \n",
    "    return new_blockchain"
   ]
  },
  {
   "cell_type": "markdown",
   "metadata": {},
   "source": [
    "**Note:** without the first line `new_blockchain = copy.deepcopy(blockchain)` Python will modify the `blockchain` variable in place when we append to it. We want to avoid that and instead explicitly overwrite the `blockchain` variable in the next cell. It is usually bad practice to modify variable directly from within a function."
   ]
  },
  {
   "cell_type": "code",
   "execution_count": 36,
   "metadata": {},
   "outputs": [
    {
     "name": "stdout",
     "output_type": "stream",
     "text": [
      "[{'prev_hash': None,\n",
      "'proof_of_work': 0,\n",
      "'transactions': {'amount': 2000,\n",
      "                'from_account': 'Genesis Endowment',\n",
      "                'timestamp': Timestamp('2018-06-18 18:03:52.259882'),\n",
      "                'to_account': 'Bob'}},\n",
      "{'prev_hash': 'b7b1bae7d16d202880edecdcf51b7c23ede397a43ba8a755d1e29b9628f7b541',\n",
      "'proof_of_work': 5735,\n",
      "'transactions': {'amount': 900,\n",
      "                'from_account': 'Bob',\n",
      "                'timestamp': Timestamp('2018-06-18 18:03:52.596980'),\n",
      "                'to_account': 'Alice'}}]\n"
     ]
    }
   ],
   "source": [
    "blockchain = add_block_if_valid(blockchain, second_block)\n",
    "pp.pprint(blockchain)"
   ]
  },
  {
   "cell_type": "markdown",
   "metadata": {},
   "source": [
    "## Example: add a third block to the blockchain"
   ]
  },
  {
   "cell_type": "code",
   "execution_count": 37,
   "metadata": {},
   "outputs": [],
   "source": [
    "txn_alice = transaction_bc(from_account = 'Alice',\n",
    "                        to_account = 'Christie',\n",
    "                        amount = 300)"
   ]
  },
  {
   "cell_type": "code",
   "execution_count": 38,
   "metadata": {},
   "outputs": [],
   "source": [
    "third_block = create_block(txns = txn_alice,\n",
    "                           prev_hash = hash_sha256(blockchain[-1]),\n",
    "                           proof_of_work = proof_of_work(blockchain[-1]['proof_of_work'])\n",
    "                          )"
   ]
  },
  {
   "cell_type": "code",
   "execution_count": 39,
   "metadata": {},
   "outputs": [
    {
     "data": {
      "text/plain": [
       "{'prev_hash': '22b463b32bc7143c482384d7745bcf76a0f84777e9b760d3999ffa834cfeae50',\n",
       " 'proof_of_work': 626,\n",
       " 'transactions': {'amount': 300,\n",
       "  'from_account': 'Alice',\n",
       "  'timestamp': Timestamp('2018-06-18 18:03:52.672780'),\n",
       "  'to_account': 'Christie'}}"
      ]
     },
     "execution_count": 39,
     "metadata": {},
     "output_type": "execute_result"
    }
   ],
   "source": [
    "third_block"
   ]
  },
  {
   "cell_type": "code",
   "execution_count": 40,
   "metadata": {},
   "outputs": [
    {
     "name": "stdout",
     "output_type": "stream",
     "text": [
      "[{'prev_hash': None,\n",
      "'proof_of_work': 0,\n",
      "'transactions': {'amount': 2000,\n",
      "                'from_account': 'Genesis Endowment',\n",
      "                'timestamp': Timestamp('2018-06-18 18:03:52.259882'),\n",
      "                'to_account': 'Bob'}},\n",
      "{'prev_hash': 'b7b1bae7d16d202880edecdcf51b7c23ede397a43ba8a755d1e29b9628f7b541',\n",
      "'proof_of_work': 5735,\n",
      "'transactions': {'amount': 900,\n",
      "                'from_account': 'Bob',\n",
      "                'timestamp': Timestamp('2018-06-18 18:03:52.596980'),\n",
      "                'to_account': 'Alice'}},\n",
      "{'prev_hash': '22b463b32bc7143c482384d7745bcf76a0f84777e9b760d3999ffa834cfeae50',\n",
      "'proof_of_work': 626,\n",
      "'transactions': {'amount': 300,\n",
      "                'from_account': 'Alice',\n",
      "                'timestamp': Timestamp('2018-06-18 18:03:52.672780'),\n",
      "                'to_account': 'Christie'}}]\n"
     ]
    }
   ],
   "source": [
    "blockchain = add_block_if_valid(blockchain, third_block)\n",
    "pp.pprint(blockchain)"
   ]
  },
  {
   "cell_type": "markdown",
   "metadata": {},
   "source": [
    "#### Check balance:"
   ]
  },
  {
   "cell_type": "code",
   "execution_count": 41,
   "metadata": {},
   "outputs": [
    {
     "name": "stdout",
     "output_type": "stream",
     "text": [
      "Balance of Alice: 600\n",
      "Balance of Bob: 1100\n",
      "Balance of Christie: 300\n"
     ]
    }
   ],
   "source": [
    "for account in ['Alice', 'Bob', 'Christie']:\n",
    "    print('Balance of {}: {}'.format(account, \n",
    "                                     get_balance(blockchain, account)))"
   ]
  },
  {
   "cell_type": "markdown",
   "metadata": {},
   "source": [
    "## Final practice problems\n",
    "\n",
    "1) How do we know if the above proof of work (626) is correct?"
   ]
  },
  {
   "cell_type": "code",
   "execution_count": null,
   "metadata": {},
   "outputs": [],
   "source": []
  },
  {
   "cell_type": "markdown",
   "metadata": {},
   "source": [
    "2) Bob wants to transfer 500 to David. Is this a valid transaction/block? If yes, show the updated blockchain. "
   ]
  },
  {
   "cell_type": "code",
   "execution_count": null,
   "metadata": {},
   "outputs": [],
   "source": []
  },
  {
   "cell_type": "markdown",
   "metadata": {},
   "source": [
    "3) Alice wants to transfer 700 to Eric. Is this a valid transaction/bloc? If yes, show the updated blockchain."
   ]
  },
  {
   "cell_type": "code",
   "execution_count": null,
   "metadata": {},
   "outputs": [],
   "source": []
  }
 ],
 "metadata": {
  "kernelspec": {
   "display_name": "Python 3",
   "language": "python",
   "name": "python3"
  },
  "language_info": {
   "codemirror_mode": {
    "name": "ipython",
    "version": 3
   },
   "file_extension": ".py",
   "mimetype": "text/x-python",
   "name": "python",
   "nbconvert_exporter": "python",
   "pygments_lexer": "ipython3",
   "version": "3.6.4"
  }
 },
 "nbformat": 4,
 "nbformat_minor": 2
}
